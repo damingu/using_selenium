{
 "metadata": {
  "language_info": {
   "codemirror_mode": {
    "name": "ipython",
    "version": 3
   },
   "file_extension": ".py",
   "mimetype": "text/x-python",
   "name": "python",
   "nbconvert_exporter": "python",
   "pygments_lexer": "ipython3",
   "version": "3.8.5"
  },
  "orig_nbformat": 2,
  "kernelspec": {
   "name": "python3",
   "display_name": "Python 3.8.5 64-bit ('base': conda)"
  },
  "interpreter": {
   "hash": "7b4b4feff2f24a0f0a34464dbe537a36fda679851528fb8735cb41fa49dffb2d"
  }
 },
 "nbformat": 4,
 "nbformat_minor": 2,
 "cells": [
  {
   "cell_type": "code",
   "execution_count": 2,
   "source": [
    "# 웹 자동화\r\n",
    "from selenium import webdriver\r\n",
    "from selenium.webdriver.common.keys import Keys\r\n",
    "# 웹 크롤링 \r\n",
    "from bs4 import BeautifulSoup\r\n",
    "# 시간 딜레이를 위한 라이브러리\r\n",
    "import time\r\n",
    "\r\n",
    "# 같은 폴더내에 있는 파일 열기 \r\n",
    "fp = open(\"demo.txt\", 'r', encoding=\"utf-8\")\r\n",
    "text = fp.read()\r\n",
    "fp.close()\r\n",
    "# print(text)\r\n",
    "\r\n",
    "# 1. 파일을 500자 기준으로 나누는 코드\r\n",
    "ready_list = []\r\n",
    "while len(text) > 500 : \r\n",
    "    # 일단 500번째 가져와 \r\n",
    "    temp_str = text[:500]\r\n",
    "    # 500번째를 조건 없이 나누기에는 문장 중간에 잘리면 정확히 검사 X\r\n",
    "    last_space = temp_str.rfind(' ') #배열 맨뒤를 기준으로 공백(' ')위치를 return \r\n",
    "    temp_str = text[0:last_space]\r\n",
    "    ready_list.append(temp_str)\r\n",
    "\r\n",
    "    # 안잘린 text로 text초기화 \r\n",
    "    text = text[last_space:]\r\n",
    "\r\n",
    "# 마지막까지 넣어라 \r\n",
    "ready_list.append(text)\r\n",
    " \r\n",
    "# 웹 자동화 \r\n",
    "driver = webdriver.Chrome()\r\n",
    "driver.get(\"https://www.naver.com\")\r\n",
    "\r\n",
    "# 검색창에 들어갈 동작 \r\n",
    "elem = driver.find_element_by_name(\"query\") # 검색창을 가져와라 \r\n",
    "elem.clear()\r\n",
    "elem.send_keys(\"맞춤법 검사기\") # elem에 값을 넣고 \r\n",
    "elem.send_keys(Keys.RETURN)\r\n",
    "# 맞춤법 검사기 안 입력창 가져오기\r\n",
    "content = driver.find_element_by_class_name(\"txt_gray\")\r\n",
    "\r\n",
    "new_str = ''\r\n",
    "for ready in ready_list:\r\n",
    "    content.clear()\r\n",
    "    content.send_keys(ready)\r\n",
    "    content.send_keys(Keys.RETURN)\r\n",
    "    # 검사 버튼을 누르는 동작 수행 \r\n",
    "    btn = driver.find_element_by_class_name(\"btn_check\")\r\n",
    "    btn.send_keys(Keys.RETURN)\r\n",
    "\r\n",
    "    # 여기서 기다리기\r\n",
    "    time.sleep(2)\r\n",
    "    # 웹 크롤링 동작\r\n",
    "    soup = BeautifulSoup(driver.page_source, 'html.parser')\r\n",
    "    # print(soup)\r\n",
    "\r\n",
    "    #결과 값 가져오기\r\n",
    "    st = soup.select(\"p._result_text.stand_txt\")[0].text\r\n",
    "    \r\n",
    "    # 가독성을 위해 replace 함수 사용 \r\n",
    "    new_str += st.replace('.', '.\\n')\r\n",
    "\r\n",
    "# 완성본을 .txt로 저장 \r\n",
    "fp = open('result.txt', 'w', encoding=\"utf-8\")\r\n",
    "fp.write(new_str)\r\n",
    "fp.close()"
   ],
   "outputs": [],
   "metadata": {
    "tags": []
   }
  },
  {
   "cell_type": "code",
   "execution_count": null,
   "source": [],
   "outputs": [],
   "metadata": {}
  }
 ]
}