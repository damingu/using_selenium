{
 "metadata": {
  "language_info": {
   "codemirror_mode": {
    "name": "ipython",
    "version": 3
   },
   "file_extension": ".py",
   "mimetype": "text/x-python",
   "name": "python",
   "nbconvert_exporter": "python",
   "pygments_lexer": "ipython3",
   "version": "3.8.5"
  },
  "orig_nbformat": 2,
  "kernelspec": {
   "name": "python3",
   "display_name": "Python 3",
   "language": "python"
  }
 },
 "nbformat": 4,
 "nbformat_minor": 2,
 "cells": [
  {
   "cell_type": "code",
   "execution_count": 72,
   "metadata": {
    "tags": []
   },
   "outputs": [
    {
     "output_type": "stream",
     "name": "stdout",
     "text": [
      "세상만사 취업시켜줘\n"
     ]
    }
   ],
   "source": [
    "# 웹 자동화\n",
    "from selenium import webdriver\n",
    "from selenium.webdriver.common.keys import Keys\n",
    "# 웹 크롤링 \n",
    "from bs4 import BeautifulSoup\n",
    "# 시간 딜레이를 위한 라이브러리\n",
    "import time\n",
    "\n",
    "# 웹 자동화 \n",
    "driver = webdriver.Chrome()\n",
    "driver.get(\"https://www.naver.com\")\n",
    "\n",
    "# 검색창에 들어갈 동작 \n",
    "elem = driver.find_element_by_name(\"query\") # 검색창을 가져와라 \n",
    "elem.clear()\n",
    "elem.send_keys(\"맞춤법 검사기\") # elem에 값을 넣고 \n",
    "elem.send_keys(Keys.RETURN)\n",
    "\n",
    "# 맞춤법 검사기 안에 들어갈 동작 \n",
    "content = driver.find_element_by_class_name(\"txt_gray\")\n",
    "content.clear()\n",
    "content.send_keys(\"세상만사취업시켜줘\")\n",
    "content.send_keys(Keys.RETURN)\n",
    "# 검사 버튼을 누르는 동작 수행 \n",
    "btn = driver.find_element_by_class_name(\"btn_check\")\n",
    "btn.send_keys(Keys.RETURN)\n",
    "\n",
    "# 여기서 기다리기\n",
    "time.sleep(2)\n",
    "# 웹 크롤링 동작\n",
    "soup = BeautifulSoup(driver.page_source, 'html.parser')\n",
    "# print(soup)\n",
    "\n",
    "#결과 값 가져오기\n",
    "print(soup.select(\"p._result_text.stand_txt\")[0].text)"
   ]
  },
  {
   "cell_type": "code",
   "execution_count": null,
   "metadata": {},
   "outputs": [],
   "source": []
  }
 ]
}